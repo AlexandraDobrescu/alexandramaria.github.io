{
 "cells": [
  {
   "cell_type": "markdown",
   "metadata": {},
   "source": [
    "![<img src="pics/functions.jpg" width="700"/>](pics/functions.jpg)"
   ]
  },
  {
   "cell_type": "markdown",
   "metadata": {},
   "source": [
    "## Naming Conventions for Functions in Python:\n",
    "\n",
    "### **Dos:**\n",
    "\n",
    "* Ordinary letters, numbers and underscores\n",
    "* Descriptive names\n",
    "\n",
    "```python\n",
    "def build_network(net_name):\n",
    "    \"\"\"DO STUFF\"\"\"\n",
    "```\n",
    "\n",
    "### ~~**Don'ts:**~~\n",
    "\n",
    "* Spaces\n",
    "* Reserved words\n",
    "* Built-in functions\n",
    "\n",
    "```python\n",
    "def build Network(mnist cifar coco):\n",
    "    \"\"\"DO STUFF\"\"\"\n",
    "```"
   ]
  },
  {
   "cell_type": "code",
   "execution_count": 3,
   "metadata": {},
   "outputs": [
    {
     "name": "stdout",
     "output_type": "stream",
     "text": [
      "WIP\n"
     ]
    }
   ],
   "source": [
    "print('WIP')"
   ]
  }
 ],
 "metadata": {
  "kernelspec": {
   "display_name": "Python 3",
   "language": "python",
   "name": "python3"
  },
  "language_info": {
   "codemirror_mode": {
    "name": "ipython",
    "version": 3
   },
   "file_extension": ".py",
   "mimetype": "text/x-python",
   "name": "python",
   "nbconvert_exporter": "python",
   "pygments_lexer": "ipython3",
   "version": "3.7.7"
  }
 },
 "nbformat": 4,
 "nbformat_minor": 4
}
